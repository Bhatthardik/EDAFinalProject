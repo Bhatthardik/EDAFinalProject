{
  "cells": [
    {
      "cell_type": "markdown",
      "metadata": {
        "id": "view-in-github",
        "colab_type": "text"
      },
      "source": [
        "<a href=\"https://colab.research.google.com/github/Bhatthardik/EDAFinalProject/blob/main/Untitled.ipynb\" target=\"_parent\"><img src=\"https://colab.research.google.com/assets/colab-badge.svg\" alt=\"Open In Colab\"/></a>"
      ]
    },
    {
      "cell_type": "code",
      "execution_count": 7,
      "id": "3f1e5ea8",
      "metadata": {
        "id": "3f1e5ea8"
      },
      "outputs": [],
      "source": [
        "import numpy as np\n",
        "\n",
        "import pandas as pd\n",
        "import matplotlib.pyplot as plt\n",
        "import seaborn as sns"
      ]
    },
    {
      "cell_type": "code",
      "source": [
        "from google.colab import drive\n",
        "drive.mount('/content/drive')"
      ],
      "metadata": {
        "colab": {
          "base_uri": "https://localhost:8080/"
        },
        "id": "jvfW2QU8nxQQ",
        "outputId": "665b80b6-a011-4292-a166-3a9d8f8f1208"
      },
      "id": "jvfW2QU8nxQQ",
      "execution_count": 8,
      "outputs": [
        {
          "output_type": "stream",
          "name": "stdout",
          "text": [
            "Drive already mounted at /content/drive; to attempt to forcibly remount, call drive.mount(\"/content/drive\", force_remount=True).\n"
          ]
        }
      ]
    },
    {
      "cell_type": "code",
      "execution_count": 9,
      "id": "54fb21d0",
      "metadata": {
        "colab": {
          "base_uri": "https://localhost:8080/",
          "height": 478
        },
        "id": "54fb21d0",
        "outputId": "1836ebc7-5eb4-4e35-836c-58eb1b05b1ae"
      },
      "outputs": [
        {
          "output_type": "execute_result",
          "data": {
            "text/plain": [
              "   Unnamed: 0         id                                         track_name  \\\n",
              "0           1  281656475                                    PAC-MAN Premium   \n",
              "1           2  281796108                          Evernote - stay organized   \n",
              "2           3  281940292    WeatherBug - Local Weather, Radar, Maps, Alerts   \n",
              "3           4  282614216  eBay: Best App to Buy, Sell, Save! Online Shop...   \n",
              "4           5  282935706                                              Bible   \n",
              "\n",
              "   size_bytes currency  price  rating_count_tot  rating_count_ver  \\\n",
              "0   100788224      INR   3.99             21292                26   \n",
              "1   158578688      INR   0.00            161065                26   \n",
              "2   100524032      INR   0.00            188583              2822   \n",
              "3   128512000      INR   0.00            262241               649   \n",
              "4    92774400      INR   0.00            985920              5320   \n",
              "\n",
              "   user_rating  user_rating_ver     ver cont_rating   prime_genre  \\\n",
              "0          4.0              4.5   6.3.5          4+         Games   \n",
              "1          4.0              3.5   8.2.2          4+  Productivity   \n",
              "2          3.5              4.5   5.0.0          4+       Weather   \n",
              "3          4.0              4.5  5.10.0         12+      Shopping   \n",
              "4          4.5              5.0   7.5.1          4+     Reference   \n",
              "\n",
              "   sup_devices.num  ipadSc_urls.num  lang.num  vpp_lic  Type  \n",
              "0               38                5        10        1  PAID  \n",
              "1               37                5        23        1  FREE  \n",
              "2               37                5         3        1  FREE  \n",
              "3               37                5         9        1  FREE  \n",
              "4               37                5        45        1  FREE  "
            ],
            "text/html": [
              "\n",
              "  <div id=\"df-65b6ad48-debf-4044-bc29-0e65f558d5c8\">\n",
              "    <div class=\"colab-df-container\">\n",
              "      <div>\n",
              "<style scoped>\n",
              "    .dataframe tbody tr th:only-of-type {\n",
              "        vertical-align: middle;\n",
              "    }\n",
              "\n",
              "    .dataframe tbody tr th {\n",
              "        vertical-align: top;\n",
              "    }\n",
              "\n",
              "    .dataframe thead th {\n",
              "        text-align: right;\n",
              "    }\n",
              "</style>\n",
              "<table border=\"1\" class=\"dataframe\">\n",
              "  <thead>\n",
              "    <tr style=\"text-align: right;\">\n",
              "      <th></th>\n",
              "      <th>Unnamed: 0</th>\n",
              "      <th>id</th>\n",
              "      <th>track_name</th>\n",
              "      <th>size_bytes</th>\n",
              "      <th>currency</th>\n",
              "      <th>price</th>\n",
              "      <th>rating_count_tot</th>\n",
              "      <th>rating_count_ver</th>\n",
              "      <th>user_rating</th>\n",
              "      <th>user_rating_ver</th>\n",
              "      <th>ver</th>\n",
              "      <th>cont_rating</th>\n",
              "      <th>prime_genre</th>\n",
              "      <th>sup_devices.num</th>\n",
              "      <th>ipadSc_urls.num</th>\n",
              "      <th>lang.num</th>\n",
              "      <th>vpp_lic</th>\n",
              "      <th>Type</th>\n",
              "    </tr>\n",
              "  </thead>\n",
              "  <tbody>\n",
              "    <tr>\n",
              "      <th>0</th>\n",
              "      <td>1</td>\n",
              "      <td>281656475</td>\n",
              "      <td>PAC-MAN Premium</td>\n",
              "      <td>100788224</td>\n",
              "      <td>INR</td>\n",
              "      <td>3.99</td>\n",
              "      <td>21292</td>\n",
              "      <td>26</td>\n",
              "      <td>4.0</td>\n",
              "      <td>4.5</td>\n",
              "      <td>6.3.5</td>\n",
              "      <td>4+</td>\n",
              "      <td>Games</td>\n",
              "      <td>38</td>\n",
              "      <td>5</td>\n",
              "      <td>10</td>\n",
              "      <td>1</td>\n",
              "      <td>PAID</td>\n",
              "    </tr>\n",
              "    <tr>\n",
              "      <th>1</th>\n",
              "      <td>2</td>\n",
              "      <td>281796108</td>\n",
              "      <td>Evernote - stay organized</td>\n",
              "      <td>158578688</td>\n",
              "      <td>INR</td>\n",
              "      <td>0.00</td>\n",
              "      <td>161065</td>\n",
              "      <td>26</td>\n",
              "      <td>4.0</td>\n",
              "      <td>3.5</td>\n",
              "      <td>8.2.2</td>\n",
              "      <td>4+</td>\n",
              "      <td>Productivity</td>\n",
              "      <td>37</td>\n",
              "      <td>5</td>\n",
              "      <td>23</td>\n",
              "      <td>1</td>\n",
              "      <td>FREE</td>\n",
              "    </tr>\n",
              "    <tr>\n",
              "      <th>2</th>\n",
              "      <td>3</td>\n",
              "      <td>281940292</td>\n",
              "      <td>WeatherBug - Local Weather, Radar, Maps, Alerts</td>\n",
              "      <td>100524032</td>\n",
              "      <td>INR</td>\n",
              "      <td>0.00</td>\n",
              "      <td>188583</td>\n",
              "      <td>2822</td>\n",
              "      <td>3.5</td>\n",
              "      <td>4.5</td>\n",
              "      <td>5.0.0</td>\n",
              "      <td>4+</td>\n",
              "      <td>Weather</td>\n",
              "      <td>37</td>\n",
              "      <td>5</td>\n",
              "      <td>3</td>\n",
              "      <td>1</td>\n",
              "      <td>FREE</td>\n",
              "    </tr>\n",
              "    <tr>\n",
              "      <th>3</th>\n",
              "      <td>4</td>\n",
              "      <td>282614216</td>\n",
              "      <td>eBay: Best App to Buy, Sell, Save! Online Shop...</td>\n",
              "      <td>128512000</td>\n",
              "      <td>INR</td>\n",
              "      <td>0.00</td>\n",
              "      <td>262241</td>\n",
              "      <td>649</td>\n",
              "      <td>4.0</td>\n",
              "      <td>4.5</td>\n",
              "      <td>5.10.0</td>\n",
              "      <td>12+</td>\n",
              "      <td>Shopping</td>\n",
              "      <td>37</td>\n",
              "      <td>5</td>\n",
              "      <td>9</td>\n",
              "      <td>1</td>\n",
              "      <td>FREE</td>\n",
              "    </tr>\n",
              "    <tr>\n",
              "      <th>4</th>\n",
              "      <td>5</td>\n",
              "      <td>282935706</td>\n",
              "      <td>Bible</td>\n",
              "      <td>92774400</td>\n",
              "      <td>INR</td>\n",
              "      <td>0.00</td>\n",
              "      <td>985920</td>\n",
              "      <td>5320</td>\n",
              "      <td>4.5</td>\n",
              "      <td>5.0</td>\n",
              "      <td>7.5.1</td>\n",
              "      <td>4+</td>\n",
              "      <td>Reference</td>\n",
              "      <td>37</td>\n",
              "      <td>5</td>\n",
              "      <td>45</td>\n",
              "      <td>1</td>\n",
              "      <td>FREE</td>\n",
              "    </tr>\n",
              "  </tbody>\n",
              "</table>\n",
              "</div>\n",
              "      <button class=\"colab-df-convert\" onclick=\"convertToInteractive('df-65b6ad48-debf-4044-bc29-0e65f558d5c8')\"\n",
              "              title=\"Convert this dataframe to an interactive table.\"\n",
              "              style=\"display:none;\">\n",
              "        \n",
              "  <svg xmlns=\"http://www.w3.org/2000/svg\" height=\"24px\"viewBox=\"0 0 24 24\"\n",
              "       width=\"24px\">\n",
              "    <path d=\"M0 0h24v24H0V0z\" fill=\"none\"/>\n",
              "    <path d=\"M18.56 5.44l.94 2.06.94-2.06 2.06-.94-2.06-.94-.94-2.06-.94 2.06-2.06.94zm-11 1L8.5 8.5l.94-2.06 2.06-.94-2.06-.94L8.5 2.5l-.94 2.06-2.06.94zm10 10l.94 2.06.94-2.06 2.06-.94-2.06-.94-.94-2.06-.94 2.06-2.06.94z\"/><path d=\"M17.41 7.96l-1.37-1.37c-.4-.4-.92-.59-1.43-.59-.52 0-1.04.2-1.43.59L10.3 9.45l-7.72 7.72c-.78.78-.78 2.05 0 2.83L4 21.41c.39.39.9.59 1.41.59.51 0 1.02-.2 1.41-.59l7.78-7.78 2.81-2.81c.8-.78.8-2.07 0-2.86zM5.41 20L4 18.59l7.72-7.72 1.47 1.35L5.41 20z\"/>\n",
              "  </svg>\n",
              "      </button>\n",
              "      \n",
              "  <style>\n",
              "    .colab-df-container {\n",
              "      display:flex;\n",
              "      flex-wrap:wrap;\n",
              "      gap: 12px;\n",
              "    }\n",
              "\n",
              "    .colab-df-convert {\n",
              "      background-color: #E8F0FE;\n",
              "      border: none;\n",
              "      border-radius: 50%;\n",
              "      cursor: pointer;\n",
              "      display: none;\n",
              "      fill: #1967D2;\n",
              "      height: 32px;\n",
              "      padding: 0 0 0 0;\n",
              "      width: 32px;\n",
              "    }\n",
              "\n",
              "    .colab-df-convert:hover {\n",
              "      background-color: #E2EBFA;\n",
              "      box-shadow: 0px 1px 2px rgba(60, 64, 67, 0.3), 0px 1px 3px 1px rgba(60, 64, 67, 0.15);\n",
              "      fill: #174EA6;\n",
              "    }\n",
              "\n",
              "    [theme=dark] .colab-df-convert {\n",
              "      background-color: #3B4455;\n",
              "      fill: #D2E3FC;\n",
              "    }\n",
              "\n",
              "    [theme=dark] .colab-df-convert:hover {\n",
              "      background-color: #434B5C;\n",
              "      box-shadow: 0px 1px 3px 1px rgba(0, 0, 0, 0.15);\n",
              "      filter: drop-shadow(0px 1px 2px rgba(0, 0, 0, 0.3));\n",
              "      fill: #FFFFFF;\n",
              "    }\n",
              "  </style>\n",
              "\n",
              "      <script>\n",
              "        const buttonEl =\n",
              "          document.querySelector('#df-65b6ad48-debf-4044-bc29-0e65f558d5c8 button.colab-df-convert');\n",
              "        buttonEl.style.display =\n",
              "          google.colab.kernel.accessAllowed ? 'block' : 'none';\n",
              "\n",
              "        async function convertToInteractive(key) {\n",
              "          const element = document.querySelector('#df-65b6ad48-debf-4044-bc29-0e65f558d5c8');\n",
              "          const dataTable =\n",
              "            await google.colab.kernel.invokeFunction('convertToInteractive',\n",
              "                                                     [key], {});\n",
              "          if (!dataTable) return;\n",
              "\n",
              "          const docLinkHtml = 'Like what you see? Visit the ' +\n",
              "            '<a target=\"_blank\" href=https://colab.research.google.com/notebooks/data_table.ipynb>data table notebook</a>'\n",
              "            + ' to learn more about interactive tables.';\n",
              "          element.innerHTML = '';\n",
              "          dataTable['output_type'] = 'display_data';\n",
              "          await google.colab.output.renderOutput(dataTable, element);\n",
              "          const docLink = document.createElement('div');\n",
              "          docLink.innerHTML = docLinkHtml;\n",
              "          element.appendChild(docLink);\n",
              "        }\n",
              "      </script>\n",
              "    </div>\n",
              "  </div>\n",
              "  "
            ]
          },
          "metadata": {},
          "execution_count": 9
        }
      ],
      "source": [
        "inp0 = pd.read_csv(\"/content/drive/MyDrive/EDA/AppleStore.csv\")\n",
        "inp0.head()"
      ]
    },
    {
      "cell_type": "code",
      "execution_count": 10,
      "id": "41c3c747",
      "metadata": {
        "colab": {
          "base_uri": "https://localhost:8080/"
        },
        "id": "41c3c747",
        "outputId": "9bee3f14-3c7a-4d19-aa76-68ff09f57acb"
      },
      "outputs": [
        {
          "output_type": "execute_result",
          "data": {
            "text/plain": [
              "(7197, 18)"
            ]
          },
          "metadata": {},
          "execution_count": 10
        }
      ],
      "source": [
        "inp0.shape\n"
      ]
    },
    {
      "cell_type": "code",
      "execution_count": 11,
      "id": "9c984f2a",
      "metadata": {
        "scrolled": true,
        "colab": {
          "base_uri": "https://localhost:8080/"
        },
        "id": "9c984f2a",
        "outputId": "ce991306-d013-415f-92fc-3a4ddc0d8810"
      },
      "outputs": [
        {
          "output_type": "stream",
          "name": "stdout",
          "text": [
            "<class 'pandas.core.frame.DataFrame'>\n",
            "RangeIndex: 7197 entries, 0 to 7196\n",
            "Data columns (total 18 columns):\n",
            " #   Column            Non-Null Count  Dtype  \n",
            "---  ------            --------------  -----  \n",
            " 0   Unnamed: 0        7197 non-null   int64  \n",
            " 1   id                7197 non-null   int64  \n",
            " 2   track_name        7197 non-null   object \n",
            " 3   size_bytes        7197 non-null   int64  \n",
            " 4   currency          7197 non-null   object \n",
            " 5   price             7197 non-null   float64\n",
            " 6   rating_count_tot  7197 non-null   int64  \n",
            " 7   rating_count_ver  7197 non-null   int64  \n",
            " 8   user_rating       7197 non-null   float64\n",
            " 9   user_rating_ver   7197 non-null   float64\n",
            " 10  ver               7197 non-null   object \n",
            " 11  cont_rating       7197 non-null   object \n",
            " 12  prime_genre       7197 non-null   object \n",
            " 13  sup_devices.num   7197 non-null   int64  \n",
            " 14  ipadSc_urls.num   7197 non-null   int64  \n",
            " 15  lang.num          7197 non-null   int64  \n",
            " 16  vpp_lic           7197 non-null   int64  \n",
            " 17  Type              7197 non-null   object \n",
            "dtypes: float64(3), int64(9), object(6)\n",
            "memory usage: 1012.2+ KB\n"
          ]
        }
      ],
      "source": [
        "inp0.info()\n"
      ]
    },
    {
      "cell_type": "markdown",
      "id": "efd12262",
      "metadata": {
        "id": "efd12262"
      },
      "source": [
        "### Data cleaning "
      ]
    },
    {
      "cell_type": "code",
      "execution_count": 12,
      "id": "95ff6afd",
      "metadata": {
        "colab": {
          "base_uri": "https://localhost:8080/"
        },
        "id": "95ff6afd",
        "outputId": "448f93cc-aef7-49f8-bee5-4d75d9775bc2"
      },
      "outputs": [
        {
          "output_type": "execute_result",
          "data": {
            "text/plain": [
              "Unnamed: 0          0\n",
              "id                  0\n",
              "track_name          0\n",
              "size_bytes          0\n",
              "currency            0\n",
              "price               0\n",
              "rating_count_tot    0\n",
              "rating_count_ver    0\n",
              "user_rating         0\n",
              "user_rating_ver     0\n",
              "ver                 0\n",
              "cont_rating         0\n",
              "prime_genre         0\n",
              "sup_devices.num     0\n",
              "ipadSc_urls.num     0\n",
              "lang.num            0\n",
              "vpp_lic             0\n",
              "Type                0\n",
              "dtype: int64"
            ]
          },
          "metadata": {},
          "execution_count": 12
        }
      ],
      "source": [
        "inp0.isnull().sum()"
      ]
    },
    {
      "cell_type": "code",
      "execution_count": 13,
      "id": "84696bc8",
      "metadata": {
        "colab": {
          "base_uri": "https://localhost:8080/"
        },
        "id": "84696bc8",
        "outputId": "599a23e6-2be7-46fe-c52c-5d0c5c085502"
      },
      "outputs": [
        {
          "output_type": "execute_result",
          "data": {
            "text/plain": [
              "0     4+\n",
              "1     4+\n",
              "2     4+\n",
              "3    12+\n",
              "4     4+\n",
              "Name: cont_rating, dtype: object"
            ]
          },
          "metadata": {},
          "execution_count": 13
        }
      ],
      "source": [
        "inp0.cont_rating.head()"
      ]
    },
    {
      "cell_type": "markdown",
      "id": "4d568b41",
      "metadata": {
        "id": "4d568b41"
      },
      "source": [
        "### handle the cont_rating"
      ]
    },
    {
      "cell_type": "code",
      "execution_count": 14,
      "id": "dd48c382",
      "metadata": {
        "id": "dd48c382"
      },
      "outputs": [],
      "source": [
        "def clean(val):\n",
        "   return int(val.replace(\"+\", \"\"))"
      ]
    },
    {
      "cell_type": "code",
      "execution_count": 15,
      "id": "8f04ae44",
      "metadata": {
        "id": "8f04ae44"
      },
      "outputs": [],
      "source": [
        "inp0.cont_rating= inp0.cont_rating.apply(clean)"
      ]
    },
    {
      "cell_type": "code",
      "execution_count": 16,
      "id": "14612ba7",
      "metadata": {
        "colab": {
          "base_uri": "https://localhost:8080/"
        },
        "id": "14612ba7",
        "outputId": "4b15f7f8-37d5-4514-c9ea-d57961691039"
      },
      "outputs": [
        {
          "output_type": "execute_result",
          "data": {
            "text/plain": [
              "count    7197.000000\n",
              "mean        7.093094\n",
              "std         4.329046\n",
              "min         4.000000\n",
              "25%         4.000000\n",
              "50%         4.000000\n",
              "75%         9.000000\n",
              "max        17.000000\n",
              "Name: cont_rating, dtype: float64"
            ]
          },
          "metadata": {},
          "execution_count": 16
        }
      ],
      "source": [
        "inp0.cont_rating.describe()"
      ]
    },
    {
      "cell_type": "code",
      "execution_count": 17,
      "id": "1fc6b75b",
      "metadata": {
        "colab": {
          "base_uri": "https://localhost:8080/"
        },
        "id": "1fc6b75b",
        "outputId": "03366558-57d7-4ee8-efa5-2fa7a7cdfbba"
      },
      "outputs": [
        {
          "output_type": "execute_result",
          "data": {
            "text/plain": [
              "0     4\n",
              "1     4\n",
              "2     4\n",
              "3    12\n",
              "4     4\n",
              "Name: cont_rating, dtype: int64"
            ]
          },
          "metadata": {},
          "execution_count": 17
        }
      ],
      "source": [
        "inp0.cont_rating.head()"
      ]
    },
    {
      "cell_type": "markdown",
      "id": "d9c64343",
      "metadata": {
        "id": "d9c64343"
      },
      "source": [
        "### UNIVARIATE ANALYSIS"
      ]
    },
    {
      "cell_type": "code",
      "execution_count": 18,
      "id": "22903fda",
      "metadata": {
        "colab": {
          "base_uri": "https://localhost:8080/",
          "height": 708
        },
        "id": "22903fda",
        "outputId": "fa49724a-22b4-4b79-8b44-271ad879983c"
      },
      "outputs": [
        {
          "output_type": "display_data",
          "data": {
            "text/plain": [
              "<Figure size 432x288 with 1 Axes>"
            ],
            "image/png": "[encoded data removed]"
          },
          "metadata": {}
        }
      ],
      "source": [
        "inp0.prime_genre.value_counts(normalize = True).plot(kind=\"pie\",radius = 3.5)\n",
        "plt.show()"
      ]
    },
    {
      "cell_type": "markdown",
      "id": "c38e1a41",
      "metadata": {
        "id": "c38e1a41"
      },
      "source": [
        "## BIVARIATE ANALYSIS"
      ]
    },
    {
      "cell_type": "markdown",
      "id": "5a91e545",
      "metadata": {
        "id": "5a91e545"
      },
      "source": [
        "### NUMERICAL TO NUMERICAL"
      ]
    },
    {
      "cell_type": "code",
      "execution_count": 19,
      "id": "a6dce865",
      "metadata": {
        "colab": {
          "base_uri": "https://localhost:8080/",
          "height": 276
        },
        "id": "a6dce865",
        "outputId": "6e216f69-3738-44bd-c910-947d5126303a"
      },
      "outputs": [
        {
          "output_type": "display_data",
          "data": {
            "text/plain": [
              "<Figure size 432x288 with 1 Axes>"
            ],
            "image/png": "[encoded data removed]"
          },
          "metadata": {
            "needs_background": "light"
          }
        }
      ],
      "source": [
        "plt.scatter(inp0.user_rating , inp0.rating_count_tot)\n",
        "plt.show()"
      ]
    },
    {
      "cell_type": "code",
      "execution_count": null,
      "id": "9beabd90",
      "metadata": {
        "id": "9beabd90"
      },
      "outputs": [],
      "source": [
        "sns.pairplot(data = inp0 , vars = ['user_rating' , 'rating_count_ver' , 'rating_count_tot'])\n",
        "plt.show()"
      ]
    },
    {
      "cell_type": "code",
      "execution_count": null,
      "id": "2855b592",
      "metadata": {
        "scrolled": true,
        "id": "2855b592"
      },
      "outputs": [],
      "source": [
        "sns.heatmap(inp0[['user_rating' , 'rating_count_ver' , 'rating_count_tot']].corr() , annot = True , cmap = 'Reds')\n",
        "plt.show()"
      ]
    },
    {
      "cell_type": "markdown",
      "id": "20112fa4",
      "metadata": {
        "id": "20112fa4"
      },
      "source": [
        "### Categorical to Categorical"
      ]
    },
    {
      "cell_type": "code",
      "execution_count": null,
      "id": "30fd1029",
      "metadata": {
        "id": "30fd1029"
      },
      "outputs": [],
      "source": [
        "inp0['Type_flag'] = np.where(inp0.Type == \"FREE\",1,0)"
      ]
    },
    {
      "cell_type": "code",
      "execution_count": null,
      "id": "ab6a957f",
      "metadata": {
        "id": "ab6a957f"
      },
      "outputs": [],
      "source": [
        "inp0.Type_flag.value_counts()"
      ]
    },
    {
      "cell_type": "code",
      "execution_count": null,
      "id": "cafad78c",
      "metadata": {
        "id": "cafad78c"
      },
      "outputs": [],
      "source": [
        "inp0.Type_flag.value_counts(normalize = True)"
      ]
    },
    {
      "cell_type": "code",
      "execution_count": null,
      "id": "286848ee",
      "metadata": {
        "id": "286848ee"
      },
      "outputs": [],
      "source": [
        "inp0.groupby(['prime_genre'])['Type_flag'].mean()"
      ]
    },
    {
      "cell_type": "code",
      "execution_count": null,
      "id": "dbac458f",
      "metadata": {
        "id": "dbac458f"
      },
      "outputs": [],
      "source": [
        "plt.figure(figsize = (10,7))\n",
        "inp0.groupby(['prime_genre'])['Type_flag'].mean().plot.barh(color = ['Red' , 'Cyan' , 'Blue' , 'Green' , 'Orange' , 'Grey'])\n",
        "plt.show()"
      ]
    },
    {
      "cell_type": "markdown",
      "id": "2da0516d",
      "metadata": {
        "id": "2da0516d"
      },
      "source": [
        "### categorical to numerical"
      ]
    },
    {
      "cell_type": "code",
      "execution_count": null,
      "id": "21fe46ba",
      "metadata": {
        "id": "21fe46ba"
      },
      "outputs": [],
      "source": [
        "inp0.groupby('prime_genre')['size_bytes'].mean()"
      ]
    },
    {
      "cell_type": "code",
      "execution_count": null,
      "id": "6244d4bc",
      "metadata": {
        "id": "6244d4bc"
      },
      "outputs": [],
      "source": [
        "inp0.groupby('prime_genre')['size_bytes'].median()"
      ]
    },
    {
      "cell_type": "code",
      "execution_count": null,
      "id": "944fb3d6",
      "metadata": {
        "id": "944fb3d6"
      },
      "outputs": [],
      "source": [
        "inp0.groupby('prime_genre')['size_bytes'].aggregate(['mean' , 'median'])"
      ]
    },
    {
      "cell_type": "code",
      "execution_count": null,
      "id": "d29b0eea",
      "metadata": {
        "id": "d29b0eea"
      },
      "outputs": [],
      "source": [
        "inp0.groupby('prime_genre')['size_bytes'].aggregate(['mean' , 'median']).plot.bar(width = 0.9)\n",
        "plt.show()"
      ]
    },
    {
      "cell_type": "markdown",
      "id": "71f53c4b",
      "metadata": {
        "id": "71f53c4b"
      },
      "source": [
        "### STATISTICAL  ANALYSIS"
      ]
    },
    {
      "cell_type": "markdown",
      "id": "3cf5cc6f",
      "metadata": {
        "id": "3cf5cc6f"
      },
      "source": [
        "### genres "
      ]
    },
    {
      "cell_type": "code",
      "execution_count": null,
      "id": "fcfcf6df",
      "metadata": {
        "id": "fcfcf6df"
      },
      "outputs": [],
      "source": [
        "inp0.dtypes"
      ]
    },
    {
      "cell_type": "code",
      "execution_count": null,
      "id": "233f2986",
      "metadata": {
        "id": "233f2986"
      },
      "outputs": [],
      "source": [
        "plt.figure(figsize=(11,7))\n",
        "inp0.prime_genre.value_counts().plot.bar(color = ['Red' , 'Blue' , 'Yellow' , 'green'])"
      ]
    },
    {
      "cell_type": "code",
      "execution_count": null,
      "id": "be3bc871",
      "metadata": {
        "id": "be3bc871"
      },
      "outputs": [],
      "source": [
        "inp0.prime_genre.value_counts().mean()"
      ]
    },
    {
      "cell_type": "markdown",
      "id": "8d48cc8d",
      "metadata": {
        "id": "8d48cc8d"
      },
      "source": [
        "#### Heighest and lowest Range of prime genre of apps avialable in play store"
      ]
    },
    {
      "cell_type": "code",
      "execution_count": null,
      "id": "858b3e29",
      "metadata": {
        "id": "858b3e29"
      },
      "outputs": [],
      "source": [
        "print(str(inp0.prime_genre.value_counts().max()) + '-' + str(inp0.prime_genre.value_counts().min()))"
      ]
    },
    {
      "cell_type": "markdown",
      "id": "66445ce9",
      "metadata": {
        "id": "66445ce9"
      },
      "source": [
        "### Currency"
      ]
    },
    {
      "cell_type": "code",
      "execution_count": null,
      "id": "6cd00fbd",
      "metadata": {
        "scrolled": true,
        "id": "6cd00fbd"
      },
      "outputs": [],
      "source": [
        "inp0.currency.value_counts().plot.bar(color = ['Red' , 'Blue' , 'Yellow' , 'green'])"
      ]
    },
    {
      "cell_type": "code",
      "execution_count": null,
      "id": "acc973bc",
      "metadata": {
        "id": "acc973bc"
      },
      "outputs": [],
      "source": [
        "inp0.currency.value_counts().mean()"
      ]
    },
    {
      "cell_type": "markdown",
      "id": "50d4873f",
      "metadata": {
        "id": "50d4873f"
      },
      "source": [
        "#### Heighest and lowest Range of Currency of apps avialable in app store"
      ]
    },
    {
      "cell_type": "code",
      "execution_count": null,
      "id": "f17e455a",
      "metadata": {
        "id": "f17e455a"
      },
      "outputs": [],
      "source": [
        "print(str(inp0.currency.value_counts().max()) + '-' + str(inp0.currency.value_counts().min()))"
      ]
    }
  ],
  "metadata": {
    "kernelspec": {
      "display_name": "Python 3 (ipykernel)",
      "language": "python",
      "name": "python3"
    },
    "language_info": {
      "codemirror_mode": {
        "name": "ipython",
        "version": 3
      },
      "file_extension": ".py",
      "mimetype": "text/x-python",
      "name": "python",
      "nbconvert_exporter": "python",
      "pygments_lexer": "ipython3",
      "version": "3.9.7"
    },
    "colab": {
      "provenance": [],
      "include_colab_link": true
    }
  },
  "nbformat": 4,
  "nbformat_minor": 5
}