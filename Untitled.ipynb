{
  "cells": [
    {
      "cell_type": "markdown",
      "metadata": {
        "id": "view-in-github",
        "colab_type": "text"
      },
      "source": [
        "<a href=\"https://colab.research.google.com/github/Bhatthardik/EDAFinalProject/blob/main/Untitled.ipynb\" target=\"_parent\"><img src=\"https://colab.research.google.com/assets/colab-badge.svg\" alt=\"Open In Colab\"/></a>"
      ]
    },
    {
      "cell_type": "code",
      "execution_count": 38,
      "id": "3f1e5ea8",
      "metadata": {
        "id": "3f1e5ea8"
      },
      "outputs": [],
      "source": [
        "import numpy as np\n",
        "\n",
        "import pandas as pd\n",
        "import matplotlib.pyplot as plt\n",
        "import seaborn as sns"
      ]
    },
    {
      "cell_type": "code",
      "source": [
        "from google.colab import drive\n",
        "drive.mount('/content/drive')"
      ],
      "metadata": {
        "colab": {
          "base_uri": "https://localhost:8080/"
        },
        "id": "jvfW2QU8nxQQ",
        "outputId": "67c45b39-369d-4018-fdac-8bbf33a2b84a"
      },
      "id": "jvfW2QU8nxQQ",
      "execution_count": 39,
      "outputs": [
        {
          "output_type": "stream",
          "name": "stdout",
          "text": [
            "Drive already mounted at /content/drive; to attempt to forcibly remount, call drive.mount(\"/content/drive\", force_remount=True).\n"
          ]
        }
      ]
    },
    {
      "cell_type": "code",
      "execution_count": 40,
      "id": "54fb21d0",
      "metadata": {
        "colab": {
          "base_uri": "https://localhost:8080/",
          "height": 478
        },
        "id": "54fb21d0",
        "outputId": "49f3cf1d-395c-4254-ac2e-e316e79c92bf"
      },
      "outputs": [
        {
          "output_type": "execute_result",
          "data": {
            "text/plain": [
              "   Unnamed: 0         id                                         track_name  \\\n",
              "0           1  281656475                                    PAC-MAN Premium   \n",
              "1           2  281796108                          Evernote - stay organized   \n",
              "2           3  281940292    WeatherBug - Local Weather, Radar, Maps, Alerts   \n",
              "3           4  282614216  eBay: Best App to Buy, Sell, Save! Online Shop...   \n",
              "4           5  282935706                                              Bible   \n",
              "\n",
              "   size_bytes currency  price  rating_count_tot  rating_count_ver  \\\n",
              "0   100788224      INR   3.99             21292                26   \n",
              "1   158578688      INR   0.00            161065                26   \n",
              "2   100524032      INR   0.00            188583              2822   \n",
              "3   128512000      INR   0.00            262241               649   \n",
              "4    92774400      INR   0.00            985920              5320   \n",
              "\n",
              "   user_rating  user_rating_ver     ver cont_rating   prime_genre  \\\n",
              "0          4.0              4.5   6.3.5          4+         Games   \n",
              "1          4.0              3.5   8.2.2          4+  Productivity   \n",
              "2          3.5              4.5   5.0.0          4+       Weather   \n",
              "3          4.0              4.5  5.10.0         12+      Shopping   \n",
              "4          4.5              5.0   7.5.1          4+     Reference   \n",
              "\n",
              "   sup_devices.num  ipadSc_urls.num  lang.num  vpp_lic  Type  \n",
              "0               38                5        10        1  PAID  \n",
              "1               37                5        23        1  FREE  \n",
              "2               37                5         3        1  FREE  \n",
              "3               37                5         9        1  FREE  \n",
              "4               37                5        45        1  FREE  "
            ],
            "text/html": [
              "\n",
              "  <div id=\"df-69223d71-6caa-4f1d-82e2-a8c8f5f3017c\">\n",
              "    <div class=\"colab-df-container\">\n",
              "      <div>\n",
              "<style scoped>\n",
              "    .dataframe tbody tr th:only-of-type {\n",
              "        vertical-align: middle;\n",
              "    }\n",
              "\n",
              "    .dataframe tbody tr th {\n",
              "        vertical-align: top;\n",
              "    }\n",
              "\n",
              "    .dataframe thead th {\n",
              "        text-align: right;\n",
              "    }\n",
              "</style>\n",
              "<table border=\"1\" class=\"dataframe\">\n",
              "  <thead>\n",
              "    <tr style=\"text-align: right;\">\n",
              "      <th></th>\n",
              "      <th>Unnamed: 0</th>\n",
              "      <th>id</th>\n",
              "      <th>track_name</th>\n",
              "      <th>size_bytes</th>\n",
              "      <th>currency</th>\n",
              "      <th>price</th>\n",
              "      <th>rating_count_tot</th>\n",
              "      <th>rating_count_ver</th>\n",
              "      <th>user_rating</th>\n",
              "      <th>user_rating_ver</th>\n",
              "      <th>ver</th>\n",
              "      <th>cont_rating</th>\n",
              "      <th>prime_genre</th>\n",
              "      <th>sup_devices.num</th>\n",
              "      <th>ipadSc_urls.num</th>\n",
              "      <th>lang.num</th>\n",
              "      <th>vpp_lic</th>\n",
              "      <th>Type</th>\n",
              "    </tr>\n",
              "  </thead>\n",
              "  <tbody>\n",
              "    <tr>\n",
              "      <th>0</th>\n",
              "      <td>1</td>\n",
              "      <td>281656475</td>\n",
              "      <td>PAC-MAN Premium</td>\n",
              "      <td>100788224</td>\n",
              "      <td>INR</td>\n",
              "      <td>3.99</td>\n",
              "      <td>21292</td>\n",
              "      <td>26</td>\n",
              "      <td>4.0</td>\n",
              "      <td>4.5</td>\n",
              "      <td>6.3.5</td>\n",
              "      <td>4+</td>\n",
              "      <td>Games</td>\n",
              "      <td>38</td>\n",
              "      <td>5</td>\n",
              "      <td>10</td>\n",
              "      <td>1</td>\n",
              "      <td>PAID</td>\n",
              "    </tr>\n",
              "    <tr>\n",
              "      <th>1</th>\n",
              "      <td>2</td>\n",
              "      <td>281796108</td>\n",
              "      <td>Evernote - stay organized</td>\n",
              "      <td>158578688</td>\n",
              "      <td>INR</td>\n",
              "      <td>0.00</td>\n",
              "      <td>161065</td>\n",
              "      <td>26</td>\n",
              "      <td>4.0</td>\n",
              "      <td>3.5</td>\n",
              "      <td>8.2.2</td>\n",
              "      <td>4+</td>\n",
              "      <td>Productivity</td>\n",
              "      <td>37</td>\n",
              "      <td>5</td>\n",
              "      <td>23</td>\n",
              "      <td>1</td>\n",
              "      <td>FREE</td>\n",
              "    </tr>\n",
              "    <tr>\n",
              "      <th>2</th>\n",
              "      <td>3</td>\n",
              "      <td>281940292</td>\n",
              "      <td>WeatherBug - Local Weather, Radar, Maps, Alerts</td>\n",
              "      <td>100524032</td>\n",
              "      <td>INR</td>\n",
              "      <td>0.00</td>\n",
              "      <td>188583</td>\n",
              "      <td>2822</td>\n",
              "      <td>3.5</td>\n",
              "      <td>4.5</td>\n",
              "      <td>5.0.0</td>\n",
              "      <td>4+</td>\n",
              "      <td>Weather</td>\n",
              "      <td>37</td>\n",
              "      <td>5</td>\n",
              "      <td>3</td>\n",
              "      <td>1</td>\n",
              "      <td>FREE</td>\n",
              "    </tr>\n",
              "    <tr>\n",
              "      <th>3</th>\n",
              "      <td>4</td>\n",
              "      <td>282614216</td>\n",
              "      <td>eBay: Best App to Buy, Sell, Save! Online Shop...</td>\n",
              "      <td>128512000</td>\n",
              "      <td>INR</td>\n",
              "      <td>0.00</td>\n",
              "      <td>262241</td>\n",
              "      <td>649</td>\n",
              "      <td>4.0</td>\n",
              "      <td>4.5</td>\n",
              "      <td>5.10.0</td>\n",
              "      <td>12+</td>\n",
              "      <td>Shopping</td>\n",
              "      <td>37</td>\n",
              "      <td>5</td>\n",
              "      <td>9</td>\n",
              "      <td>1</td>\n",
              "      <td>FREE</td>\n",
              "    </tr>\n",
              "    <tr>\n",
              "      <th>4</th>\n",
              "      <td>5</td>\n",
              "      <td>282935706</td>\n",
              "      <td>Bible</td>\n",
              "      <td>92774400</td>\n",
              "      <td>INR</td>\n",
              "      <td>0.00</td>\n",
              "      <td>985920</td>\n",
              "      <td>5320</td>\n",
              "      <td>4.5</td>\n",
              "      <td>5.0</td>\n",
              "      <td>7.5.1</td>\n",
              "      <td>4+</td>\n",
              "      <td>Reference</td>\n",
              "      <td>37</td>\n",
              "      <td>5</td>\n",
              "      <td>45</td>\n",
              "      <td>1</td>\n",
              "      <td>FREE</td>\n",
              "    </tr>\n",
              "  </tbody>\n",
              "</table>\n",
              "</div>\n",
              "      <button class=\"colab-df-convert\" onclick=\"convertToInteractive('df-69223d71-6caa-4f1d-82e2-a8c8f5f3017c')\"\n",
              "              title=\"Convert this dataframe to an interactive table.\"\n",
              "              style=\"display:none;\">\n",
              "        \n",
              "  <svg xmlns=\"http://www.w3.org/2000/svg\" height=\"24px\"viewBox=\"0 0 24 24\"\n",
              "       width=\"24px\">\n",
              "    <path d=\"M0 0h24v24H0V0z\" fill=\"none\"/>\n",
              "    <path d=\"M18.56 5.44l.94 2.06.94-2.06 2.06-.94-2.06-.94-.94-2.06-.94 2.06-2.06.94zm-11 1L8.5 8.5l.94-2.06 2.06-.94-2.06-.94L8.5 2.5l-.94 2.06-2.06.94zm10 10l.94 2.06.94-2.06 2.06-.94-2.06-.94-.94-2.06-.94 2.06-2.06.94z\"/><path d=\"M17.41 7.96l-1.37-1.37c-.4-.4-.92-.59-1.43-.59-.52 0-1.04.2-1.43.59L10.3 9.45l-7.72 7.72c-.78.78-.78 2.05 0 2.83L4 21.41c.39.39.9.59 1.41.59.51 0 1.02-.2 1.41-.59l7.78-7.78 2.81-2.81c.8-.78.8-2.07 0-2.86zM5.41 20L4 18.59l7.72-7.72 1.47 1.35L5.41 20z\"/>\n",
              "  </svg>\n",
              "      </button>\n",
              "      \n",
              "  <style>\n",
              "    .colab-df-container {\n",
              "      display:flex;\n",
              "      flex-wrap:wrap;\n",
              "      gap: 12px;\n",
              "    }\n",
              "\n",
              "    .colab-df-convert {\n",
              "      background-color: #E8F0FE;\n",
              "      border: none;\n",
              "      border-radius: 50%;\n",
              "      cursor: pointer;\n",
              "      display: none;\n",
              "      fill: #1967D2;\n",
              "      height: 32px;\n",
              "      padding: 0 0 0 0;\n",
              "      width: 32px;\n",
              "    }\n",
              "\n",
              "    .colab-df-convert:hover {\n",
              "      background-color: #E2EBFA;\n",
              "      box-shadow: 0px 1px 2px rgba(60, 64, 67, 0.3), 0px 1px 3px 1px rgba(60, 64, 67, 0.15);\n",
              "      fill: #174EA6;\n",
              "    }\n",
              "\n",
              "    [theme=dark] .colab-df-convert {\n",
              "      background-color: #3B4455;\n",
              "      fill: #D2E3FC;\n",
              "    }\n",
              "\n",
              "    [theme=dark] .colab-df-convert:hover {\n",
              "      background-color: #434B5C;\n",
              "      box-shadow: 0px 1px 3px 1px rgba(0, 0, 0, 0.15);\n",
              "      filter: drop-shadow(0px 1px 2px rgba(0, 0, 0, 0.3));\n",
              "      fill: #FFFFFF;\n",
              "    }\n",
              "  </style>\n",
              "\n",
              "      <script>\n",
              "        const buttonEl =\n",
              "          document.querySelector('#df-69223d71-6caa-4f1d-82e2-a8c8f5f3017c button.colab-df-convert');\n",
              "        buttonEl.style.display =\n",
              "          google.colab.kernel.accessAllowed ? 'block' : 'none';\n",
              "\n",
              "        async function convertToInteractive(key) {\n",
              "          const element = document.querySelector('#df-69223d71-6caa-4f1d-82e2-a8c8f5f3017c');\n",
              "          const dataTable =\n",
              "            await google.colab.kernel.invokeFunction('convertToInteractive',\n",
              "                                                     [key], {});\n",
              "          if (!dataTable) return;\n",
              "\n",
              "          const docLinkHtml = 'Like what you see? Visit the ' +\n",
              "            '<a target=\"_blank\" href=https://colab.research.google.com/notebooks/data_table.ipynb>data table notebook</a>'\n",
              "            + ' to learn more about interactive tables.';\n",
              "          element.innerHTML = '';\n",
              "          dataTable['output_type'] = 'display_data';\n",
              "          await google.colab.output.renderOutput(dataTable, element);\n",
              "          const docLink = document.createElement('div');\n",
              "          docLink.innerHTML = docLinkHtml;\n",
              "          element.appendChild(docLink);\n",
              "        }\n",
              "      </script>\n",
              "    </div>\n",
              "  </div>\n",
              "  "
            ]
          },
          "metadata": {},
          "execution_count": 40
        }
      ],
      "source": [
        "inp0 = pd.read_csv(\"/content/drive/MyDrive/EDA/AppleStore.csv\")\n",
        "inp0.head()"
      ]
    },
    {
      "cell_type": "code",
      "execution_count": 41,
      "id": "41c3c747",
      "metadata": {
        "colab": {
          "base_uri": "https://localhost:8080/"
        },
        "id": "41c3c747",
        "outputId": "7e4b6933-3e08-4cb0-e21b-1a55eb58ba9a"
      },
      "outputs": [
        {
          "output_type": "execute_result",
          "data": {
            "text/plain": [
              "(7197, 18)"
            ]
          },
          "metadata": {},
          "execution_count": 41
        }
      ],
      "source": [
        "inp0.shape\n"
      ]
    },
    {
      "cell_type": "code",
      "execution_count": 42,
      "id": "9c984f2a",
      "metadata": {
        "scrolled": true,
        "colab": {
          "base_uri": "https://localhost:8080/"
        },
        "id": "9c984f2a",
        "outputId": "94b9f40a-4dbb-4c99-c516-e5a6ce0831d6"
      },
      "outputs": [
        {
          "output_type": "stream",
          "name": "stdout",
          "text": [
            "<class 'pandas.core.frame.DataFrame'>\n",
            "RangeIndex: 7197 entries, 0 to 7196\n",
            "Data columns (total 18 columns):\n",
            " #   Column            Non-Null Count  Dtype  \n",
            "---  ------            --------------  -----  \n",
            " 0   Unnamed: 0        7197 non-null   int64  \n",
            " 1   id                7197 non-null   int64  \n",
            " 2   track_name        7197 non-null   object \n",
            " 3   size_bytes        7197 non-null   int64  \n",
            " 4   currency          7197 non-null   object \n",
            " 5   price             7197 non-null   float64\n",
            " 6   rating_count_tot  7197 non-null   int64  \n",
            " 7   rating_count_ver  7197 non-null   int64  \n",
            " 8   user_rating       7197 non-null   float64\n",
            " 9   user_rating_ver   7197 non-null   float64\n",
            " 10  ver               7197 non-null   object \n",
            " 11  cont_rating       7197 non-null   object \n",
            " 12  prime_genre       7197 non-null   object \n",
            " 13  sup_devices.num   7197 non-null   int64  \n",
            " 14  ipadSc_urls.num   7197 non-null   int64  \n",
            " 15  lang.num          7197 non-null   int64  \n",
            " 16  vpp_lic           7197 non-null   int64  \n",
            " 17  Type              7197 non-null   object \n",
            "dtypes: float64(3), int64(9), object(6)\n",
            "memory usage: 1012.2+ KB\n"
          ]
        }
      ],
      "source": [
        "inp0.info()\n"
      ]
    },
    {
      "cell_type": "markdown",
      "id": "efd12262",
      "metadata": {
        "id": "efd12262"
      },
      "source": [
        "### Data cleaning "
      ]
    },
    {
      "cell_type": "code",
      "execution_count": 43,
      "id": "95ff6afd",
      "metadata": {
        "colab": {
          "base_uri": "https://localhost:8080/"
        },
        "id": "95ff6afd",
        "outputId": "8f512e64-31ad-4df4-f2bc-7c66742f80cc"
      },
      "outputs": [
        {
          "output_type": "execute_result",
          "data": {
            "text/plain": [
              "Unnamed: 0          0\n",
              "id                  0\n",
              "track_name          0\n",
              "size_bytes          0\n",
              "currency            0\n",
              "price               0\n",
              "rating_count_tot    0\n",
              "rating_count_ver    0\n",
              "user_rating         0\n",
              "user_rating_ver     0\n",
              "ver                 0\n",
              "cont_rating         0\n",
              "prime_genre         0\n",
              "sup_devices.num     0\n",
              "ipadSc_urls.num     0\n",
              "lang.num            0\n",
              "vpp_lic             0\n",
              "Type                0\n",
              "dtype: int64"
            ]
          },
          "metadata": {},
          "execution_count": 43
        }
      ],
      "source": [
        "inp0.isnull().sum()"
      ]
    },
    {
      "cell_type": "code",
      "execution_count": 44,
      "id": "84696bc8",
      "metadata": {
        "colab": {
          "base_uri": "https://localhost:8080/"
        },
        "id": "84696bc8",
        "outputId": "bf93b3d1-31d2-4812-b6ea-67e936d39e48"
      },
      "outputs": [
        {
          "output_type": "execute_result",
          "data": {
            "text/plain": [
              "0     4+\n",
              "1     4+\n",
              "2     4+\n",
              "3    12+\n",
              "4     4+\n",
              "Name: cont_rating, dtype: object"
            ]
          },
          "metadata": {},
          "execution_count": 44
        }
      ],
      "source": [
        "inp0.cont_rating.head()"
      ]
    },
    {
      "cell_type": "markdown",
      "id": "4d568b41",
      "metadata": {
        "id": "4d568b41"
      },
      "source": [
        "### handle the cont_rating"
      ]
    },
    {
      "cell_type": "code",
      "execution_count": 45,
      "id": "dd48c382",
      "metadata": {
        "id": "dd48c382"
      },
      "outputs": [],
      "source": [
        "def clean(val):\n",
        "   return int(val.replace(\"+\", \"\"))"
      ]
    },
    {
      "cell_type": "code",
      "execution_count": 46,
      "id": "8f04ae44",
      "metadata": {
        "id": "8f04ae44"
      },
      "outputs": [],
      "source": [
        "inp0.cont_rating= inp0.cont_rating.apply(clean)"
      ]
    },
    {
      "cell_type": "code",
      "execution_count": 47,
      "id": "14612ba7",
      "metadata": {
        "colab": {
          "base_uri": "https://localhost:8080/"
        },
        "id": "14612ba7",
        "outputId": "b826296d-d1f8-494d-817a-760d1c5710ce"
      },
      "outputs": [
        {
          "output_type": "execute_result",
          "data": {
            "text/plain": [
              "count    7197.000000\n",
              "mean        7.093094\n",
              "std         4.329046\n",
              "min         4.000000\n",
              "25%         4.000000\n",
              "50%         4.000000\n",
              "75%         9.000000\n",
              "max        17.000000\n",
              "Name: cont_rating, dtype: float64"
            ]
          },
          "metadata": {},
          "execution_count": 47
        }
      ],
      "source": [
        "inp0.cont_rating.describe()"
      ]
    },
    {
      "cell_type": "code",
      "execution_count": 48,
      "id": "1fc6b75b",
      "metadata": {
        "colab": {
          "base_uri": "https://localhost:8080/"
        },
        "id": "1fc6b75b",
        "outputId": "70d6b7aa-f23b-40e0-a81b-b180053be74b"
      },
      "outputs": [
        {
          "output_type": "execute_result",
          "data": {
            "text/plain": [
              "0     4\n",
              "1     4\n",
              "2     4\n",
              "3    12\n",
              "4     4\n",
              "Name: cont_rating, dtype: int64"
            ]
          },
          "metadata": {},
          "execution_count": 48
        }
      ],
      "source": [
        "inp0.cont_rating.head()"
      ]
    },
    {
      "cell_type": "markdown",
      "id": "d9c64343",
      "metadata": {
        "id": "d9c64343"
      },
      "source": [
        "### UNIVARIATE ANALYSIS"
      ]
    },
    {
      "cell_type": "code",
      "execution_count": 49,
      "id": "22903fda",
      "metadata": {
        "colab": {
          "base_uri": "https://localhost:8080/",
          "height": 708
        },
        "id": "22903fda",
        "outputId": "9bff3ac3-34d7-4112-833b-2c3b7932e4e8"
      },
      "outputs": [
        {
          "output_type": "display_data",
          "data": {
            "text/plain": [
              "<Figure size 432x288 with 1 Axes>"
            ],
            "image/png": "[encoded data removed]"
          },
          "metadata": {}
        }
      ],
      "source": [
        "inp0.prime_genre.value_counts(normalize = True).plot(kind=\"pie\",radius = 3.5)\n",
        "plt.show()"
      ]
    },
    {
      "cell_type": "markdown",
      "id": "c38e1a41",
      "metadata": {
        "id": "c38e1a41"
      },
      "source": [
        "## BIVARIATE ANALYSIS"
      ]
    },
    {
      "cell_type": "markdown",
      "id": "5a91e545",
      "metadata": {
        "id": "5a91e545"
      },
      "source": [
        "### NUMERICAL TO NUMERICAL"
      ]
    },
    {
      "cell_type": "code",
      "execution_count": 50,
      "id": "a6dce865",
      "metadata": {
        "colab": {
          "base_uri": "https://localhost:8080/",
          "height": 276
        },
        "id": "a6dce865",
        "outputId": "5035fca5-c361-4830-e102-f2e3d9e40284"
      },
      "outputs": [
        {
          "output_type": "display_data",
          "data": {
            "text/plain": [
              "<Figure size 432x288 with 1 Axes>"
            ],
            "image/png": "[encoded data removed]"
          },
          "metadata": {
            "needs_background": "light"
          }
        }
      ],
      "source": [
        "plt.scatter(inp0.user_rating , inp0.rating_count_tot)\n",
        "plt.show()"
      ]
    },
    {
      "cell_type": "code",
      "execution_count": 51,
      "id": "9beabd90",
      "metadata": {
        "colab": {
          "base_uri": "https://localhost:8080/",
          "height": 550
        },
        "id": "9beabd90",
        "outputId": "7d99006b-8539-4f29-94be-403e6b6a1588"
      },
      "outputs": [
        {
          "output_type": "display_data",
          "data": {
            "text/plain": [
              "<Figure size 540x540 with 12 Axes>"
            ],
            "image/png": "[encoded data removed]"
          },
          "metadata": {
            "needs_background": "light"
          }
        }
      ],
      "source": [
        "sns.pairplot(data = inp0 , vars = ['user_rating' , 'rating_count_ver' , 'rating_count_tot'])\n",
        "plt.show()"
      ]
    },
    {
      "cell_type": "code",
      "execution_count": 52,
      "id": "2855b592",
      "metadata": {
        "scrolled": true,
        "colab": {
          "base_uri": "https://localhost:8080/",
          "height": 270
        },
        "id": "2855b592",
        "outputId": "6592df7a-7bdd-4c6d-9bd4-7765d8c2501a"
      },
      "outputs": [
        {
          "output_type": "display_data",
          "data": {
            "text/plain": [
              "<Figure size 432x288 with 2 Axes>"
            ],
            "image/png": "[encoded data removed]"
          },
          "metadata": {
            "needs_background": "light"
          }
        }
      ],
      "source": [
        "sns.heatmap(inp0[['user_rating' , 'rating_count_ver' , 'rating_count_tot']].corr() , annot = True , cmap = 'Reds')\n",
        "plt.show()"
      ]
    },
    {
      "cell_type": "markdown",
      "id": "20112fa4",
      "metadata": {
        "id": "20112fa4"
      },
      "source": [
        "### Categorical to Categorical"
      ]
    },
    {
      "cell_type": "code",
      "execution_count": 53,
      "id": "30fd1029",
      "metadata": {
        "id": "30fd1029"
      },
      "outputs": [],
      "source": [
        "inp0['Type_flag'] = np.where(inp0.Type == \"FREE\",1,0)"
      ]
    },
    {
      "cell_type": "code",
      "execution_count": 54,
      "id": "ab6a957f",
      "metadata": {
        "colab": {
          "base_uri": "https://localhost:8080/"
        },
        "id": "ab6a957f",
        "outputId": "efefa1e3-5d99-46f6-d2d0-cecb76f02327"
      },
      "outputs": [
        {
          "output_type": "execute_result",
          "data": {
            "text/plain": [
              "1    4056\n",
              "0    3141\n",
              "Name: Type_flag, dtype: int64"
            ]
          },
          "metadata": {},
          "execution_count": 54
        }
      ],
      "source": [
        "inp0.Type_flag.value_counts()"
      ]
    },
    {
      "cell_type": "code",
      "execution_count": 55,
      "id": "cafad78c",
      "metadata": {
        "colab": {
          "base_uri": "https://localhost:8080/"
        },
        "id": "cafad78c",
        "outputId": "4a37417b-6100-4796-db25-436d4119756b"
      },
      "outputs": [
        {
          "output_type": "execute_result",
          "data": {
            "text/plain": [
              "1    0.563568\n",
              "0    0.436432\n",
              "Name: Type_flag, dtype: float64"
            ]
          },
          "metadata": {},
          "execution_count": 55
        }
      ],
      "source": [
        "inp0.Type_flag.value_counts(normalize = True)"
      ]
    },
    {
      "cell_type": "code",
      "execution_count": 56,
      "id": "286848ee",
      "metadata": {
        "colab": {
          "base_uri": "https://localhost:8080/"
        },
        "id": "286848ee",
        "outputId": "c91f879f-9cee-4348-ad11-7f20c798267e"
      },
      "outputs": [
        {
          "output_type": "execute_result",
          "data": {
            "text/plain": [
              "prime_genre\n",
              "Book                 0.589286\n",
              "Business             0.350877\n",
              "Catalogs             0.900000\n",
              "Education            0.291391\n",
              "Entertainment        0.624299\n",
              "Finance              0.807692\n",
              "Food & Drink         0.682540\n",
              "Games                0.584412\n",
              "Health & Fitness     0.422222\n",
              "Lifestyle            0.652778\n",
              "Medical              0.347826\n",
              "Music                0.485507\n",
              "Navigation           0.434783\n",
              "News                 0.773333\n",
              "Photo & Video        0.478510\n",
              "Productivity         0.348315\n",
              "Reference            0.312500\n",
              "Shopping             0.991803\n",
              "Social Networking    0.856287\n",
              "Sports               0.692982\n",
              "Travel               0.691358\n",
              "Utilities            0.439516\n",
              "Weather              0.430556\n",
              "Name: Type_flag, dtype: float64"
            ]
          },
          "metadata": {},
          "execution_count": 56
        }
      ],
      "source": [
        "inp0.groupby(['prime_genre'])['Type_flag'].mean()"
      ]
    },
    {
      "cell_type": "code",
      "execution_count": 57,
      "id": "dbac458f",
      "metadata": {
        "colab": {
          "base_uri": "https://localhost:8080/",
          "height": 428
        },
        "id": "dbac458f",
        "outputId": "b93c4cc9-1338-4f9b-8bfd-ac7f5c46ee10"
      },
      "outputs": [
        {
          "output_type": "display_data",
          "data": {
            "text/plain": [
              "<Figure size 720x504 with 1 Axes>"
            ],
            "image/png": "[encoded data removed]"
          },
          "metadata": {
            "needs_background": "light"
          }
        }
      ],
      "source": [
        "plt.figure(figsize = (10,7))\n",
        "inp0.groupby(['prime_genre'])['Type_flag'].mean().plot.barh(color = ['Red' , 'Cyan' , 'Blue' , 'Green' , 'Orange' , 'Grey'])\n",
        "plt.show()"
      ]
    },
    {
      "cell_type": "markdown",
      "id": "2da0516d",
      "metadata": {
        "id": "2da0516d"
      },
      "source": [
        "### categorical to numerical"
      ]
    },
    {
      "cell_type": "code",
      "execution_count": 58,
      "id": "21fe46ba",
      "metadata": {
        "colab": {
          "base_uri": "https://localhost:8080/"
        },
        "id": "21fe46ba",
        "outputId": "3d760a19-5a91-428a-cc54-6f74314e00b5"
      },
      "outputs": [
        {
          "output_type": "execute_result",
          "data": {
            "text/plain": [
              "prime_genre\n",
              "Book                 1.788206e+08\n",
              "Business             6.416849e+07\n",
              "Catalogs             5.018163e+07\n",
              "Education            1.804242e+08\n",
              "Entertainment        1.014787e+08\n",
              "Finance              7.823586e+07\n",
              "Food & Drink         7.759500e+07\n",
              "Games                2.836583e+08\n",
              "Health & Fitness     9.010664e+07\n",
              "Lifestyle            6.230647e+07\n",
              "Medical              3.763890e+08\n",
              "Music                1.096356e+08\n",
              "Navigation           1.033545e+08\n",
              "News                 6.247085e+07\n",
              "Photo & Video        6.852190e+07\n",
              "Productivity         7.844064e+07\n",
              "Reference            1.551627e+08\n",
              "Shopping             9.334683e+07\n",
              "Social Networking    7.937244e+07\n",
              "Sports               7.887357e+07\n",
              "Travel               8.270691e+07\n",
              "Utilities            5.429006e+07\n",
              "Weather              6.144138e+07\n",
              "Name: size_bytes, dtype: float64"
            ]
          },
          "metadata": {},
          "execution_count": 58
        }
      ],
      "source": [
        "inp0.groupby('prime_genre')['size_bytes'].mean()"
      ]
    },
    {
      "cell_type": "code",
      "execution_count": 59,
      "id": "6244d4bc",
      "metadata": {
        "colab": {
          "base_uri": "https://localhost:8080/"
        },
        "id": "6244d4bc",
        "outputId": "96827e65-5955-40a8-a7f0-4e4d63e4ecbd"
      },
      "outputs": [
        {
          "output_type": "execute_result",
          "data": {
            "text/plain": [
              "prime_genre\n",
              "Book                  54524416.0\n",
              "Business              54827008.0\n",
              "Catalogs              38881280.0\n",
              "Education            113008640.0\n",
              "Entertainment         56974336.0\n",
              "Finance               68435968.0\n",
              "Food & Drink          62734336.0\n",
              "Games                133514752.0\n",
              "Health & Fitness      75254272.0\n",
              "Lifestyle             53755904.0\n",
              "Medical               84885504.0\n",
              "Music                 72035840.0\n",
              "Navigation            46367744.0\n",
              "News                  60169216.0\n",
              "Photo & Video         55851008.0\n",
              "Productivity          54803968.0\n",
              "Reference             74125824.0\n",
              "Shopping              85249024.0\n",
              "Social Networking     67424256.0\n",
              "Sports                62943232.0\n",
              "Travel                76228608.0\n",
              "Utilities             50829312.0\n",
              "Weather               49583104.0\n",
              "Name: size_bytes, dtype: float64"
            ]
          },
          "metadata": {},
          "execution_count": 59
        }
      ],
      "source": [
        "inp0.groupby('prime_genre')['size_bytes'].median()"
      ]
    },
    {
      "cell_type": "code",
      "execution_count": 60,
      "id": "944fb3d6",
      "metadata": {
        "colab": {
          "base_uri": "https://localhost:8080/",
          "height": 802
        },
        "id": "944fb3d6",
        "outputId": "d08c886c-d471-4b78-963c-c9f3b690038d"
      },
      "outputs": [
        {
          "output_type": "execute_result",
          "data": {
            "text/plain": [
              "                           mean       median\n",
              "prime_genre                                 \n",
              "Book               1.788206e+08   54524416.0\n",
              "Business           6.416849e+07   54827008.0\n",
              "Catalogs           5.018163e+07   38881280.0\n",
              "Education          1.804242e+08  113008640.0\n",
              "Entertainment      1.014787e+08   56974336.0\n",
              "Finance            7.823586e+07   68435968.0\n",
              "Food & Drink       7.759500e+07   62734336.0\n",
              "Games              2.836583e+08  133514752.0\n",
              "Health & Fitness   9.010664e+07   75254272.0\n",
              "Lifestyle          6.230647e+07   53755904.0\n",
              "Medical            3.763890e+08   84885504.0\n",
              "Music              1.096356e+08   72035840.0\n",
              "Navigation         1.033545e+08   46367744.0\n",
              "News               6.247085e+07   60169216.0\n",
              "Photo & Video      6.852190e+07   55851008.0\n",
              "Productivity       7.844064e+07   54803968.0\n",
              "Reference          1.551627e+08   74125824.0\n",
              "Shopping           9.334683e+07   85249024.0\n",
              "Social Networking  7.937244e+07   67424256.0\n",
              "Sports             7.887357e+07   62943232.0\n",
              "Travel             8.270691e+07   76228608.0\n",
              "Utilities          5.429006e+07   50829312.0\n",
              "Weather            6.144138e+07   49583104.0"
            ],
            "text/html": [
              "\n",
              "  <div id=\"df-e0c15a5f-43f5-477f-bd7e-3e9cd26cd0b5\">\n",
              "    <div class=\"colab-df-container\">\n",
              "      <div>\n",
              "<style scoped>\n",
              "    .dataframe tbody tr th:only-of-type {\n",
              "        vertical-align: middle;\n",
              "    }\n",
              "\n",
              "    .dataframe tbody tr th {\n",
              "        vertical-align: top;\n",
              "    }\n",
              "\n",
              "    .dataframe thead th {\n",
              "        text-align: right;\n",
              "    }\n",
              "</style>\n",
              "<table border=\"1\" class=\"dataframe\">\n",
              "  <thead>\n",
              "    <tr style=\"text-align: right;\">\n",
              "      <th></th>\n",
              "      <th>mean</th>\n",
              "      <th>median</th>\n",
              "    </tr>\n",
              "    <tr>\n",
              "      <th>prime_genre</th>\n",
              "      <th></th>\n",
              "      <th></th>\n",
              "    </tr>\n",
              "  </thead>\n",
              "  <tbody>\n",
              "    <tr>\n",
              "      <th>Book</th>\n",
              "      <td>1.788206e+08</td>\n",
              "      <td>54524416.0</td>\n",
              "    </tr>\n",
              "    <tr>\n",
              "      <th>Business</th>\n",
              "      <td>6.416849e+07</td>\n",
              "      <td>54827008.0</td>\n",
              "    </tr>\n",
              "    <tr>\n",
              "      <th>Catalogs</th>\n",
              "      <td>5.018163e+07</td>\n",
              "      <td>38881280.0</td>\n",
              "    </tr>\n",
              "    <tr>\n",
              "      <th>Education</th>\n",
              "      <td>1.804242e+08</td>\n",
              "      <td>113008640.0</td>\n",
              "    </tr>\n",
              "    <tr>\n",
              "      <th>Entertainment</th>\n",
              "      <td>1.014787e+08</td>\n",
              "      <td>56974336.0</td>\n",
              "    </tr>\n",
              "    <tr>\n",
              "      <th>Finance</th>\n",
              "      <td>7.823586e+07</td>\n",
              "      <td>68435968.0</td>\n",
              "    </tr>\n",
              "    <tr>\n",
              "      <th>Food &amp; Drink</th>\n",
              "      <td>7.759500e+07</td>\n",
              "      <td>62734336.0</td>\n",
              "    </tr>\n",
              "    <tr>\n",
              "      <th>Games</th>\n",
              "      <td>2.836583e+08</td>\n",
              "      <td>133514752.0</td>\n",
              "    </tr>\n",
              "    <tr>\n",
              "      <th>Health &amp; Fitness</th>\n",
              "      <td>9.010664e+07</td>\n",
              "      <td>75254272.0</td>\n",
              "    </tr>\n",
              "    <tr>\n",
              "      <th>Lifestyle</th>\n",
              "      <td>6.230647e+07</td>\n",
              "      <td>53755904.0</td>\n",
              "    </tr>\n",
              "    <tr>\n",
              "      <th>Medical</th>\n",
              "      <td>3.763890e+08</td>\n",
              "      <td>84885504.0</td>\n",
              "    </tr>\n",
              "    <tr>\n",
              "      <th>Music</th>\n",
              "      <td>1.096356e+08</td>\n",
              "      <td>72035840.0</td>\n",
              "    </tr>\n",
              "    <tr>\n",
              "      <th>Navigation</th>\n",
              "      <td>1.033545e+08</td>\n",
              "      <td>46367744.0</td>\n",
              "    </tr>\n",
              "    <tr>\n",
              "      <th>News</th>\n",
              "      <td>6.247085e+07</td>\n",
              "      <td>60169216.0</td>\n",
              "    </tr>\n",
              "    <tr>\n",
              "      <th>Photo &amp; Video</th>\n",
              "      <td>6.852190e+07</td>\n",
              "      <td>55851008.0</td>\n",
              "    </tr>\n",
              "    <tr>\n",
              "      <th>Productivity</th>\n",
              "      <td>7.844064e+07</td>\n",
              "      <td>54803968.0</td>\n",
              "    </tr>\n",
              "    <tr>\n",
              "      <th>Reference</th>\n",
              "      <td>1.551627e+08</td>\n",
              "      <td>74125824.0</td>\n",
              "    </tr>\n",
              "    <tr>\n",
              "      <th>Shopping</th>\n",
              "      <td>9.334683e+07</td>\n",
              "      <td>85249024.0</td>\n",
              "    </tr>\n",
              "    <tr>\n",
              "      <th>Social Networking</th>\n",
              "      <td>7.937244e+07</td>\n",
              "      <td>67424256.0</td>\n",
              "    </tr>\n",
              "    <tr>\n",
              "      <th>Sports</th>\n",
              "      <td>7.887357e+07</td>\n",
              "      <td>62943232.0</td>\n",
              "    </tr>\n",
              "    <tr>\n",
              "      <th>Travel</th>\n",
              "      <td>8.270691e+07</td>\n",
              "      <td>76228608.0</td>\n",
              "    </tr>\n",
              "    <tr>\n",
              "      <th>Utilities</th>\n",
              "      <td>5.429006e+07</td>\n",
              "      <td>50829312.0</td>\n",
              "    </tr>\n",
              "    <tr>\n",
              "      <th>Weather</th>\n",
              "      <td>6.144138e+07</td>\n",
              "      <td>49583104.0</td>\n",
              "    </tr>\n",
              "  </tbody>\n",
              "</table>\n",
              "</div>\n",
              "      <button class=\"colab-df-convert\" onclick=\"convertToInteractive('df-e0c15a5f-43f5-477f-bd7e-3e9cd26cd0b5')\"\n",
              "              title=\"Convert this dataframe to an interactive table.\"\n",
              "              style=\"display:none;\">\n",
              "        \n",
              "  <svg xmlns=\"http://www.w3.org/2000/svg\" height=\"24px\"viewBox=\"0 0 24 24\"\n",
              "       width=\"24px\">\n",
              "    <path d=\"M0 0h24v24H0V0z\" fill=\"none\"/>\n",
              "    <path d=\"M18.56 5.44l.94 2.06.94-2.06 2.06-.94-2.06-.94-.94-2.06-.94 2.06-2.06.94zm-11 1L8.5 8.5l.94-2.06 2.06-.94-2.06-.94L8.5 2.5l-.94 2.06-2.06.94zm10 10l.94 2.06.94-2.06 2.06-.94-2.06-.94-.94-2.06-.94 2.06-2.06.94z\"/><path d=\"M17.41 7.96l-1.37-1.37c-.4-.4-.92-.59-1.43-.59-.52 0-1.04.2-1.43.59L10.3 9.45l-7.72 7.72c-.78.78-.78 2.05 0 2.83L4 21.41c.39.39.9.59 1.41.59.51 0 1.02-.2 1.41-.59l7.78-7.78 2.81-2.81c.8-.78.8-2.07 0-2.86zM5.41 20L4 18.59l7.72-7.72 1.47 1.35L5.41 20z\"/>\n",
              "  </svg>\n",
              "      </button>\n",
              "      \n",
              "  <style>\n",
              "    .colab-df-container {\n",
              "      display:flex;\n",
              "      flex-wrap:wrap;\n",
              "      gap: 12px;\n",
              "    }\n",
              "\n",
              "    .colab-df-convert {\n",
              "      background-color: #E8F0FE;\n",
              "      border: none;\n",
              "      border-radius: 50%;\n",
              "      cursor: pointer;\n",
              "      display: none;\n",
              "      fill: #1967D2;\n",
              "      height: 32px;\n",
              "      padding: 0 0 0 0;\n",
              "      width: 32px;\n",
              "    }\n",
              "\n",
              "    .colab-df-convert:hover {\n",
              "      background-color: #E2EBFA;\n",
              "      box-shadow: 0px 1px 2px rgba(60, 64, 67, 0.3), 0px 1px 3px 1px rgba(60, 64, 67, 0.15);\n",
              "      fill: #174EA6;\n",
              "    }\n",
              "\n",
              "    [theme=dark] .colab-df-convert {\n",
              "      background-color: #3B4455;\n",
              "      fill: #D2E3FC;\n",
              "    }\n",
              "\n",
              "    [theme=dark] .colab-df-convert:hover {\n",
              "      background-color: #434B5C;\n",
              "      box-shadow: 0px 1px 3px 1px rgba(0, 0, 0, 0.15);\n",
              "      filter: drop-shadow(0px 1px 2px rgba(0, 0, 0, 0.3));\n",
              "      fill: #FFFFFF;\n",
              "    }\n",
              "  </style>\n",
              "\n",
              "      <script>\n",
              "        const buttonEl =\n",
              "          document.querySelector('#df-e0c15a5f-43f5-477f-bd7e-3e9cd26cd0b5 button.colab-df-convert');\n",
              "        buttonEl.style.display =\n",
              "          google.colab.kernel.accessAllowed ? 'block' : 'none';\n",
              "\n",
              "        async function convertToInteractive(key) {\n",
              "          const element = document.querySelector('#df-e0c15a5f-43f5-477f-bd7e-3e9cd26cd0b5');\n",
              "          const dataTable =\n",
              "            await google.colab.kernel.invokeFunction('convertToInteractive',\n",
              "                                                     [key], {});\n",
              "          if (!dataTable) return;\n",
              "\n",
              "          const docLinkHtml = 'Like what you see? Visit the ' +\n",
              "            '<a target=\"_blank\" href=https://colab.research.google.com/notebooks/data_table.ipynb>data table notebook</a>'\n",
              "            + ' to learn more about interactive tables.';\n",
              "          element.innerHTML = '';\n",
              "          dataTable['output_type'] = 'display_data';\n",
              "          await google.colab.output.renderOutput(dataTable, element);\n",
              "          const docLink = document.createElement('div');\n",
              "          docLink.innerHTML = docLinkHtml;\n",
              "          element.appendChild(docLink);\n",
              "        }\n",
              "      </script>\n",
              "    </div>\n",
              "  </div>\n",
              "  "
            ]
          },
          "metadata": {},
          "execution_count": 60
        }
      ],
      "source": [
        "inp0.groupby('prime_genre')['size_bytes'].aggregate(['mean' , 'median'])"
      ]
    },
    {
      "cell_type": "code",
      "execution_count": 61,
      "id": "d29b0eea",
      "metadata": {
        "colab": {
          "base_uri": "https://localhost:8080/",
          "height": 371
        },
        "id": "d29b0eea",
        "outputId": "b609d0e2-09d3-4f62-b733-14809279a5ab"
      },
      "outputs": [
        {
          "output_type": "display_data",
          "data": {
            "text/plain": [
              "<Figure size 432x288 with 1 Axes>"
            ],
            "image/png": "[encoded data removed]"
          },
          "metadata": {
            "needs_background": "light"
          }
        }
      ],
      "source": [
        "inp0.groupby('prime_genre')['size_bytes'].aggregate(['mean' , 'median']).plot.bar(width = 0.9)\n",
        "plt.show()"
      ]
    },
    {
      "cell_type": "markdown",
      "id": "71f53c4b",
      "metadata": {
        "id": "71f53c4b"
      },
      "source": [
        "### STATISTICAL  ANALYSIS"
      ]
    },
    {
      "cell_type": "markdown",
      "id": "3cf5cc6f",
      "metadata": {
        "id": "3cf5cc6f"
      },
      "source": [
        "### genres "
      ]
    },
    {
      "cell_type": "code",
      "execution_count": 62,
      "id": "fcfcf6df",
      "metadata": {
        "colab": {
          "base_uri": "https://localhost:8080/"
        },
        "id": "fcfcf6df",
        "outputId": "24edd913-49f0-410e-a190-2b29dab59660"
      },
      "outputs": [
        {
          "output_type": "execute_result",
          "data": {
            "text/plain": [
              "Unnamed: 0            int64\n",
              "id                    int64\n",
              "track_name           object\n",
              "size_bytes            int64\n",
              "currency             object\n",
              "price               float64\n",
              "rating_count_tot      int64\n",
              "rating_count_ver      int64\n",
              "user_rating         float64\n",
              "user_rating_ver     float64\n",
              "ver                  object\n",
              "cont_rating           int64\n",
              "prime_genre          object\n",
              "sup_devices.num       int64\n",
              "ipadSc_urls.num       int64\n",
              "lang.num              int64\n",
              "vpp_lic               int64\n",
              "Type                 object\n",
              "Type_flag             int64\n",
              "dtype: object"
            ]
          },
          "metadata": {},
          "execution_count": 62
        }
      ],
      "source": [
        "inp0.dtypes"
      ]
    },
    {
      "cell_type": "code",
      "execution_count": 63,
      "id": "233f2986",
      "metadata": {
        "colab": {
          "base_uri": "https://localhost:8080/",
          "height": 525
        },
        "id": "233f2986",
        "outputId": "314ab6fa-aca1-4965-ffbe-f1bd2a17e7c9"
      },
      "outputs": [
        {
          "output_type": "execute_result",
          "data": {
            "text/plain": [
              "<matplotlib.axes._subplots.AxesSubplot at 0x7f9d6fe2d710>"
            ]
          },
          "metadata": {},
          "execution_count": 63
        },
        {
          "output_type": "display_data",
          "data": {
            "text/plain": [
              "<Figure size 792x504 with 1 Axes>"
            ],
            "image/png": "[encoded data removed]"
          },
          "metadata": {
            "needs_background": "light"
          }
        }
      ],
      "source": [
        "plt.figure(figsize=(11,7))\n",
        "inp0.prime_genre.value_counts().plot.bar(color = ['Red' , 'Blue' , 'Yellow' , 'green'])"
      ]
    },
    {
      "cell_type": "code",
      "execution_count": 64,
      "id": "be3bc871",
      "metadata": {
        "colab": {
          "base_uri": "https://localhost:8080/"
        },
        "id": "be3bc871",
        "outputId": "fbf26a23-eb41-4781-cf84-f7f259ca50b5"
      },
      "outputs": [
        {
          "output_type": "execute_result",
          "data": {
            "text/plain": [
              "312.9130434782609"
            ]
          },
          "metadata": {},
          "execution_count": 64
        }
      ],
      "source": [
        "inp0.prime_genre.value_counts().mean()"
      ]
    },
    {
      "cell_type": "markdown",
      "id": "8d48cc8d",
      "metadata": {
        "id": "8d48cc8d"
      },
      "source": [
        "#### Heighest and lowest Range of prime genre of apps avialable in play store"
      ]
    },
    {
      "cell_type": "code",
      "execution_count": 65,
      "id": "858b3e29",
      "metadata": {
        "colab": {
          "base_uri": "https://localhost:8080/"
        },
        "id": "858b3e29",
        "outputId": "2f6ab6dd-1a44-4b95-e47e-3c429e551093"
      },
      "outputs": [
        {
          "output_type": "stream",
          "name": "stdout",
          "text": [
            "3862-10\n"
          ]
        }
      ],
      "source": [
        "print(str(inp0.prime_genre.value_counts().max()) + '-' + str(inp0.prime_genre.value_counts().min()))"
      ]
    },
    {
      "cell_type": "markdown",
      "id": "66445ce9",
      "metadata": {
        "id": "66445ce9"
      },
      "source": [
        "### Currency"
      ]
    },
    {
      "cell_type": "code",
      "execution_count": 66,
      "id": "6cd00fbd",
      "metadata": {
        "scrolled": true,
        "colab": {
          "base_uri": "https://localhost:8080/",
          "height": 294
        },
        "id": "6cd00fbd",
        "outputId": "ba9b24ff-b18c-4d4f-b79c-8296b5180b7c"
      },
      "outputs": [
        {
          "output_type": "execute_result",
          "data": {
            "text/plain": [
              "<matplotlib.axes._subplots.AxesSubplot at 0x7f9d5f2e7390>"
            ]
          },
          "metadata": {},
          "execution_count": 66
        },
        {
          "output_type": "display_data",
          "data": {
            "text/plain": [
              "<Figure size 432x288 with 1 Axes>"
            ],
            "image/png": "[encoded data removed]"
          },
          "metadata": {
            "needs_background": "light"
          }
        }
      ],
      "source": [
        "inp0.currency.value_counts().plot.bar(color = ['Red' , 'Blue' , 'Yellow' , 'green'])"
      ]
    },
    {
      "cell_type": "code",
      "execution_count": 67,
      "id": "acc973bc",
      "metadata": {
        "colab": {
          "base_uri": "https://localhost:8080/"
        },
        "id": "acc973bc",
        "outputId": "577aff51-2e75-4faf-b6fc-9c6d40e3ac8b"
      },
      "outputs": [
        {
          "output_type": "execute_result",
          "data": {
            "text/plain": [
              "1799.25"
            ]
          },
          "metadata": {},
          "execution_count": 67
        }
      ],
      "source": [
        "inp0.currency.value_counts().mean()"
      ]
    },
    {
      "cell_type": "markdown",
      "id": "50d4873f",
      "metadata": {
        "id": "50d4873f"
      },
      "source": [
        "#### Heighest and lowest Range of Currency of apps avialable in app store"
      ]
    },
    {
      "cell_type": "code",
      "execution_count": 68,
      "id": "f17e455a",
      "metadata": {
        "colab": {
          "base_uri": "https://localhost:8080/"
        },
        "id": "f17e455a",
        "outputId": "8f69c5e8-ccee-4874-cfcc-5dda7faf94b2"
      },
      "outputs": [
        {
          "output_type": "stream",
          "name": "stdout",
          "text": [
            "3589-78\n"
          ]
        }
      ],
      "source": [
        "print(str(inp0.currency.value_counts().max()) + '-' + str(inp0.currency.value_counts().min()))"
      ]
    }
  ],
  "metadata": {
    "kernelspec": {
      "display_name": "Python 3 (ipykernel)",
      "language": "python",
      "name": "python3"
    },
    "language_info": {
      "codemirror_mode": {
        "name": "ipython",
        "version": 3
      },
      "file_extension": ".py",
      "mimetype": "text/x-python",
      "name": "python",
      "nbconvert_exporter": "python",
      "pygments_lexer": "ipython3",
      "version": "3.9.7"
    },
    "colab": {
      "provenance": [],
      "include_colab_link": true
    }
  },
  "nbformat": 4,
  "nbformat_minor": 5
}